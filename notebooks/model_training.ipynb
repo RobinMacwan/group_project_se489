{
 "cells": [
  {
   "cell_type": "code",
   "execution_count": 1,
   "metadata": {},
   "outputs": [],
   "source": [
    "import os\n",
    "import asyncio\n",
    "import nest_asyncio"
   ]
  },
  {
   "cell_type": "code",
   "execution_count": 2,
   "metadata": {},
   "outputs": [
    {
     "data": {
      "text/plain": [
       "'c:\\\\Users\\\\etrou\\\\OneDrive\\\\Desktop\\\\SE489GroupProjectGit\\\\group_project_se489\\\\notebooks'"
      ]
     },
     "execution_count": 2,
     "metadata": {},
     "output_type": "execute_result"
    }
   ],
   "source": [
    "%pwd"
   ]
  },
  {
   "cell_type": "code",
   "execution_count": 3,
   "metadata": {},
   "outputs": [],
   "source": [
    "os.chdir(\"../\")"
   ]
  },
  {
   "cell_type": "code",
   "execution_count": 4,
   "metadata": {},
   "outputs": [
    {
     "data": {
      "text/plain": [
       "'c:\\\\Users\\\\etrou\\\\OneDrive\\\\Desktop\\\\SE489GroupProjectGit\\\\group_project_se489'"
      ]
     },
     "execution_count": 4,
     "metadata": {},
     "output_type": "execute_result"
    }
   ],
   "source": [
    "%pwd"
   ]
  },
  {
   "cell_type": "code",
   "execution_count": 5,
   "metadata": {},
   "outputs": [],
   "source": [
    "from dataclasses import dataclass\n",
    "from pathlib import Path\n",
    "\n",
    "\n",
    "@dataclass(frozen=True)\n",
    "class ModelTrainingConfig:\n",
    "    root_dir: Path\n",
    "    trained_model_path: Path\n",
    "    updated_base_model_path: Path\n",
    "    training_data: Path\n",
    "    params_epochs: int\n",
    "    params_batch_size: int\n",
    "    params_is_augmentation: bool\n",
    "    params_image_size: list"
   ]
  },
  {
   "cell_type": "code",
   "execution_count": 6,
   "metadata": {},
   "outputs": [],
   "source": [
    "from se489_group_project.constants import *\n",
    "from se489_group_project.utility.common import read_yaml, create_directories\n",
    "import tensorflow as tf"
   ]
  },
  {
   "cell_type": "code",
   "execution_count": 7,
   "metadata": {},
   "outputs": [],
   "source": [
    "class ConfigurationManager:\n",
    "    def __init__(\n",
    "        self,\n",
    "        config_filepath = CONFIG_FILE_PATH,\n",
    "        params_filepath = PARAMS_FILE_PATH):\n",
    "\n",
    "        self.config = read_yaml(config_filepath)\n",
    "        self.params = read_yaml(params_filepath)\n",
    "\n",
    "        create_directories([self.config.data_storage])\n",
    "\n",
    "\n",
    "    \n",
    "    def get_training_config(self) -> ModelTrainingConfig:\n",
    "        training = self.config.training\n",
    "        prepare_base_model = self.config.prepare_base_model\n",
    "        params = self.params\n",
    "        training_data = os.path.join(self.config.data_ingestion.unzip_dir, \"kidney-ct-scan-image\")\n",
    "        create_directories([\n",
    "            Path(training.root_dir)\n",
    "        ])\n",
    "\n",
    "        training_config = ModelTrainingConfig(\n",
    "            root_dir=Path(training.root_dir),\n",
    "            trained_model_path=Path(training.trained_model_path),\n",
    "            updated_base_model_path=Path(prepare_base_model.updated_base_model_path),\n",
    "            training_data=Path(training_data),\n",
    "            params_epochs=params.EPOCHS,\n",
    "            params_batch_size=params.BATCH_SIZE,\n",
    "            params_is_augmentation=params.AUGMENTATION,\n",
    "            params_image_size=params.IMAGE_SIZE\n",
    "        )\n",
    "\n",
    "        return training_config"
   ]
  },
  {
   "cell_type": "code",
   "execution_count": 8,
   "metadata": {},
   "outputs": [],
   "source": [
    "import os\n",
    "import urllib.request as request\n",
    "from zipfile import ZipFile\n",
    "import tensorflow as tf\n",
    "import time\n",
    "import webbrowser\n",
    "import subprocess\n",
    "import torch\n",
    "from torch.profiler import profile, record_function, ProfilerActivity\n"
   ]
  },
  {
   "cell_type": "code",
   "execution_count": 9,
   "metadata": {},
   "outputs": [],
   "source": [
    "class Training:\n",
    "    def __init__(self, config: ModelTrainingConfig):\n",
    "        self.config = config\n",
    "\n",
    "    \n",
    "    async def get_base_model(self):\n",
    "        self.model = tf.keras.models.load_model(\n",
    "            self.config.updated_base_model_path\n",
    "        )\n",
    "        \n",
    "    async def train_valid_generator(self):\n",
    "\n",
    "        datagenerator_kwargs = dict(\n",
    "            rescale = 1./255,\n",
    "            validation_split=0.20\n",
    "        )\n",
    "\n",
    "        dataflow_kwargs = dict(\n",
    "            target_size=self.config.params_image_size[:-1],\n",
    "            batch_size=self.config.params_batch_size,\n",
    "            interpolation=\"bilinear\"\n",
    "        )\n",
    "\n",
    "        valid_datagenerator = tf.keras.preprocessing.image.ImageDataGenerator(\n",
    "            **datagenerator_kwargs\n",
    "        )\n",
    "\n",
    "        self.valid_generator = valid_datagenerator.flow_from_directory(\n",
    "            directory=self.config.training_data,\n",
    "            subset=\"validation\",\n",
    "            shuffle=False,\n",
    "            **dataflow_kwargs\n",
    "        )\n",
    "\n",
    "        if self.config.params_is_augmentation:\n",
    "            train_datagenerator = tf.keras.preprocessing.image.ImageDataGenerator(\n",
    "                rotation_range=40,\n",
    "                horizontal_flip=True,\n",
    "                width_shift_range=0.2,\n",
    "                height_shift_range=0.2,\n",
    "                shear_range=0.2,\n",
    "                zoom_range=0.2,\n",
    "                **datagenerator_kwargs\n",
    "            )\n",
    "        else:\n",
    "            train_datagenerator = valid_datagenerator\n",
    "\n",
    "        self.train_generator = train_datagenerator.flow_from_directory(\n",
    "            directory=self.config.training_data,\n",
    "            subset=\"training\",\n",
    "            shuffle=True,\n",
    "            **dataflow_kwargs\n",
    "        )\n",
    "\n",
    "    \n",
    "    @staticmethod\n",
    "    def save_model(path: Path, model: tf.keras.Model):\n",
    "        model.save(path)\n",
    "\n",
    "\n",
    "    async def stop_profiler_if_running(self):\n",
    "        \"\"\"Stops the profiler if it is currently running.\"\"\"\n",
    "        try:\n",
    "            tf.profiler.experimental.stop()\n",
    "        except tf.errors.UnimplementedError:\n",
    "            print(\"Profiler was not running.\")\n",
    "        except tf.errors.FailedPreconditionError:\n",
    "            print(\"No profiler is running.\")\n",
    "        except Exception as e:\n",
    "            print(f\"An unexpected error occurred while stopping the profiler: {e}\")\n",
    "\n",
    "    \n",
    "    async def train(self):\n",
    "        self.steps_per_epoch = self.train_generator.samples // self.train_generator.batch_size\n",
    "        self.validation_steps = self.valid_generator.samples // self.valid_generator.batch_size\n",
    "\n",
    "        log_dir = \"se489_group_project/visualizations/tensorboard_logs\"\n",
    "        \n",
    "        os.makedirs(log_dir, exist_ok=True)\n",
    "       \n",
    "        # Stop any running profiler instances before starting a new one\n",
    "        await self.stop_profiler_if_running()\n",
    "\n",
    "        #TensorFlow Profiling \n",
    "        tf.profiler.experimental.start(log_dir)\n",
    "\n",
    "         # Set up TensorBoard callback\n",
    "        tensorboard_callback = tf.keras.callbacks.TensorBoard(\n",
    "            log_dir=log_dir,\n",
    "            histogram_freq=1,\n",
    "            profile_batch='500,520'  # Profile batches 500 to 520\n",
    "        )\n",
    "        try:\n",
    "            self.model.fit(\n",
    "                self.train_generator,\n",
    "                epochs=self.config.params_epochs,\n",
    "                steps_per_epoch=self.steps_per_epoch,\n",
    "                validation_steps=self.validation_steps,\n",
    "                validation_data=self.valid_generator,\n",
    "                callbacks=[tensorboard_callback]\n",
    "            )\n",
    "        finally:\n",
    "        \n",
    "            tf.profiler.experimental.stop()\n",
    "        \n",
    "       \n",
    "        self.save_model(\n",
    "            path=self.config.trained_model_path,\n",
    "            model=self.model\n",
    "        )\n",
    "        \n",
    "    "
   ]
  },
  {
   "cell_type": "code",
   "execution_count": 10,
   "metadata": {},
   "outputs": [
    {
     "name": "stdout",
     "output_type": "stream",
     "text": [
      "[2024-05-30 16:28:17,448: INFO: common: yaml file: config\\config.yaml loaded successfully]\n",
      "[2024-05-30 16:28:17,452: INFO: common: yaml file: params.yaml loaded successfully]\n",
      "[2024-05-30 16:28:17,453: INFO: common: created directory at: data]\n",
      "[2024-05-30 16:28:17,454: INFO: common: created directory at: data\\training]\n",
      "Found 93 images belonging to 2 classes.\n",
      "Found 372 images belonging to 2 classes.\n",
      "An unexpected error occurred while stopping the profiler: Cannot export profiling results. No profiler is running.\n",
      "[2024-05-30 16:28:18,123: ERROR: callbacks: Failed to start profiler: Another profiler is running.]\n",
      "23/23 [==============================] - 33s 1s/step - loss: 0.4279 - accuracy: 0.8034 - val_loss: 0.5747 - val_accuracy: 0.8000\n"
     ]
    }
   ],
   "source": [
    "import cProfile\n",
    "import webbrowser\n",
    "#async added to main function to improve performance metrics\n",
    "async def main():\n",
    "        logs = \"se489_group_project/visualizations/tensorboard_logs\"\n",
    "        \n",
    "        subprocess.Popen([\"tensorboard\", \"--logdir\", logs, \"--host\", \"0.0.0.0\", \"--port\", \"6006\"])\n",
    "        time.sleep(5)\n",
    "        webbrowser.open(\"http://localhost:6006/\")\n",
    "\n",
    "        log_dir = os.path.join(os.getcwd(), \"se489_group_project\", \"visualizations\")\n",
    "        file = os.path.join(log_dir, 'cprofile_stats_model_training.prof')\n",
    "        config = ConfigurationManager()\n",
    "        training_config = config.get_training_config()\n",
    "        training = Training(config=training_config)\n",
    "        profiler = cProfile.Profile()\n",
    "        profiler.enable()\n",
    "        await training.get_base_model()\n",
    "        await training.train_valid_generator()\n",
    "        await training.train()\n",
    "        profiler.disable()\n",
    "        profiler.dump_stats(file)\n",
    "        profile_file_full_path = os.path.abspath(file)\n",
    "        \n",
    "        #Automatically open snakeviz to visualize the profiling results\n",
    "        try:\n",
    "            subprocess.Popen([\"snakeviz\", profile_file_full_path])\n",
    "        except FileNotFoundError:\n",
    "            print(\"snakeviz is not installed or not found in the system path.\")\n",
    "    \n",
    "\n",
    "if __name__ == \"__main__\":\n",
    "    nest_asyncio.apply()\n",
    "    asyncio.run(main())\n",
    "\n"
   ]
  },
  {
   "cell_type": "code",
   "execution_count": null,
   "metadata": {},
   "outputs": [],
   "source": []
  }
 ],
 "metadata": {
  "kernelspec": {
   "display_name": "grp_env",
   "language": "python",
   "name": "python3"
  },
  "language_info": {
   "codemirror_mode": {
    "name": "ipython",
    "version": 3
   },
   "file_extension": ".py",
   "mimetype": "text/x-python",
   "name": "python",
   "nbconvert_exporter": "python",
   "pygments_lexer": "ipython3",
   "version": "3.8.19"
  }
 },
 "nbformat": 4,
 "nbformat_minor": 2
}
