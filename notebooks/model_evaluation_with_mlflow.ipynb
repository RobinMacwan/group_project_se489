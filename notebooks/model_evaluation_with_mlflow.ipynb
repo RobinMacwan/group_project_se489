{
 "cells": [
  {
   "cell_type": "code",
   "execution_count": 1,
   "metadata": {},
   "outputs": [],
   "source": [
    "import os\n",
    "# import cProfile\n",
    "# import pstats\n",
    "# from prometheus_client import start_http_server, Summary, Gauge\n",
    "# import pdb #import for debugging\n"
   ]
  },
  {
   "cell_type": "code",
   "execution_count": 2,
   "metadata": {},
   "outputs": [
    {
     "data": {
      "text/plain": [
       "'c:\\\\Users\\\\etrou\\\\OneDrive\\\\Desktop\\\\SE489GroupProjectGit\\\\group_project_se489\\\\notebooks'"
      ]
     },
     "execution_count": 2,
     "metadata": {},
     "output_type": "execute_result"
    }
   ],
   "source": [
    "%pwd"
   ]
  },
  {
   "cell_type": "code",
   "execution_count": 3,
   "metadata": {},
   "outputs": [],
   "source": [
    "os.chdir(\"../\")"
   ]
  },
  {
   "cell_type": "code",
   "execution_count": 4,
   "metadata": {},
   "outputs": [
    {
     "data": {
      "text/plain": [
       "'c:\\\\Users\\\\etrou\\\\OneDrive\\\\Desktop\\\\SE489GroupProjectGit\\\\group_project_se489'"
      ]
     },
     "execution_count": 4,
     "metadata": {},
     "output_type": "execute_result"
    }
   ],
   "source": [
    "%pwd"
   ]
  },
  {
   "cell_type": "code",
   "execution_count": 5,
   "metadata": {},
   "outputs": [],
   "source": [
    "import gdown\n",
    "from se489_group_project import logger"
   ]
  },
  {
   "cell_type": "code",
   "execution_count": 6,
   "metadata": {},
   "outputs": [],
   "source": [
    "os.environ[\"MLFLOW_TRACKING_URI\"]=\"https://dagshub.com/eTroupe5201/GroupProjectSE489.mlflow\"\n",
    "os.environ[\"MLFLOW_TRACKING_USERNAME\"]=\"eTroupe5201\"\n",
    "os.environ[\"MLFLOW_TRACKING_PASSWORD\"]=\"635dd059be61c5cb0404b966309b062aa641c766\""
   ]
  },
  {
   "cell_type": "code",
   "execution_count": 7,
   "metadata": {},
   "outputs": [],
   "source": [
    "import tensorflow as tf"
   ]
  },
  {
   "cell_type": "code",
   "execution_count": 8,
   "metadata": {},
   "outputs": [],
   "source": [
    "model = tf.keras.models.load_model(\"data/training/model.h5\")"
   ]
  },
  {
   "cell_type": "code",
   "execution_count": 9,
   "metadata": {},
   "outputs": [],
   "source": [
    "from dataclasses import dataclass\n",
    "from pathlib import Path\n",
    "\n",
    "@dataclass(frozen=True)\n",
    "class ModelEvaluationConfig:\n",
    "    path_of_model: Path\n",
    "    training_data: Path\n",
    "    all_params: dict\n",
    "    mlflow_uri: str\n",
    "    params_image_size: list\n",
    "    params_batch_size: int"
   ]
  },
  {
   "cell_type": "code",
   "execution_count": 10,
   "metadata": {},
   "outputs": [],
   "source": [
    "from se489_group_project.constants import *\n",
    "from se489_group_project.utility.common import read_yaml, create_directories, save_json"
   ]
  },
  {
   "cell_type": "code",
   "execution_count": 11,
   "metadata": {},
   "outputs": [],
   "source": [
    "class ConfigurationManager:\n",
    "    def __init__(\n",
    "        self, \n",
    "        config_filepath = CONFIG_FILE_PATH,\n",
    "        params_filepath = PARAMS_FILE_PATH):\n",
    "        self.config = read_yaml(config_filepath)\n",
    "        self.params = read_yaml(params_filepath)\n",
    "        create_directories([self.config.data_storage])\n",
    "\n",
    "    \n",
    "    def get_evaluation_config(self) -> ModelEvaluationConfig:\n",
    "        eval_config = ModelEvaluationConfig(\n",
    "            path_of_model=\"data/training/model.h5\",\n",
    "            training_data=\"data/raw/kidney-ct-scan-image\",\n",
    "            mlflow_uri=\"https://dagshub.com/eTroupe5201/GroupProjectSE489.mlflow\",\n",
    "            all_params=self.params,\n",
    "            params_image_size=self.params.IMAGE_SIZE,\n",
    "            params_batch_size=self.params.BATCH_SIZE\n",
    "        )\n",
    "        return eval_config"
   ]
  },
  {
   "cell_type": "code",
   "execution_count": 12,
   "metadata": {},
   "outputs": [],
   "source": [
    "import tensorflow as tf\n",
    "from pathlib import Path\n",
    "import mlflow\n",
    "import mlflow.keras\n",
    "from urllib.parse import urlparse"
   ]
  },
  {
   "cell_type": "code",
   "execution_count": 13,
   "metadata": {},
   "outputs": [],
   "source": [
    "class Evaluation:\n",
    "    def __init__(self, config: ModelEvaluationConfig):\n",
    "        self.config = config\n",
    "        # # Initialize Prometheus metrics\n",
    "        # self.evaluation_time = Summary('evaluation_processing_seconds', 'Time spent evaluating the model')\n",
    "        # self.model_loss = Gauge('model_loss', 'Model evaluation loss')\n",
    "        # self.model_accuracy = Gauge('model_accuracy', 'Model evaluation accuracy')\n",
    "\n",
    "        # # Start Prometheus HTTP server\n",
    "        # start_http_server(8000)\n",
    "\n",
    "    \n",
    "    def _valid_generator(self):\n",
    "\n",
    "        datagenerator_kwargs = dict(\n",
    "            rescale = 1./255,\n",
    "            validation_split=0.30\n",
    "        )\n",
    "\n",
    "        dataflow_kwargs = dict(\n",
    "            target_size=self.config.params_image_size[:-1],\n",
    "            batch_size=self.config.params_batch_size,\n",
    "            interpolation=\"bilinear\"\n",
    "        )\n",
    "\n",
    "        valid_datagenerator = tf.keras.preprocessing.image.ImageDataGenerator(\n",
    "            **datagenerator_kwargs\n",
    "        )\n",
    "\n",
    "        self.valid_generator = valid_datagenerator.flow_from_directory(\n",
    "            directory=self.config.training_data,\n",
    "            subset=\"validation\",\n",
    "            shuffle=False,\n",
    "            **dataflow_kwargs\n",
    "        )\n",
    "\n",
    "\n",
    "    @staticmethod\n",
    "    def load_model(path: Path) -> tf.keras.Model:\n",
    "        return tf.keras.models.load_model(path)\n",
    "    \n",
    "\n",
    "    def evaluation(self):\n",
    "        #breakpoint for debugging\n",
    "        #pdb.set_trace()\n",
    "        self.model = self.load_model(self.config.path_of_model)\n",
    "        self._valid_generator()\n",
    "        self.score = model.evaluate(self.valid_generator)\n",
    "        self.save_score()\n",
    "\n",
    "    def save_score(self):\n",
    "        scores = {\"loss\": self.score[0], \"accuracy\": self.score[1]}\n",
    "        save_json(path=Path(\"scores.json\"), data=scores)\n",
    "\n",
    "    \n",
    "    def log_into_mlflow(self):\n",
    "        mlflow.set_registry_uri(self.config.mlflow_uri)\n",
    "        tracking_url_type_store = urlparse(mlflow.get_tracking_uri()).scheme\n",
    "        \n",
    "        with mlflow.start_run():\n",
    "            mlflow.log_params(self.config.all_params)\n",
    "            mlflow.log_metrics(\n",
    "                {\"loss\": self.score[0], \"accuracy\": self.score[1]}\n",
    "            )\n",
    "            # Model registry does not work with file store\n",
    "            if tracking_url_type_store != \"file\":\n",
    "\n",
    "                # Register the model\n",
    "                # There are other ways to use the Model Registry, which depends on the use case,\n",
    "                # please refer to the doc for more information:\n",
    "                # https://mlflow.org/docs/latest/model-registry.html#api-workflow\n",
    "                mlflow.keras.log_model(self.model, \"model\", registered_model_name=\"VGG16Model\")\n",
    "            else:\n",
    "                mlflow.keras.log_model(self.model, \"model\")"
   ]
  },
  {
   "cell_type": "code",
   "execution_count": 14,
   "metadata": {},
   "outputs": [],
   "source": [
    "import cProfile\n",
    "import pstats\n",
    "\n",
    "def analyze(file):\n",
    "    p = pstats.Stats(file)\n",
    "    # Print top 10 functions sorted by cumulative time\n",
    "    print(\"\\nTop 10 functions sorted by cumulative time:\")\n",
    "    p.sort_stats('cumtime').print_stats(10)\n",
    "    \n",
    "    # Print top 10 functions sorted by total time\n",
    "    print(\"\\nTop 10 functions sorted by total time:\")\n",
    "    p.sort_stats('tottime').print_stats(10)"
   ]
  },
  {
   "cell_type": "code",
   "execution_count": 15,
   "metadata": {},
   "outputs": [
    {
     "name": "stdout",
     "output_type": "stream",
     "text": [
      "[2024-05-30 16:29:06,669: INFO: common: yaml file: config\\config.yaml loaded successfully]\n",
      "[2024-05-30 16:29:06,672: INFO: common: yaml file: params.yaml loaded successfully]\n",
      "[2024-05-30 16:29:06,672: INFO: common: created directory at: data]\n",
      "Found 139 images belonging to 2 classes.\n",
      "9/9 [==============================] - 25s 3s/step - loss: 0.4718 - accuracy: 0.8849\n",
      "[2024-05-30 16:29:32,417: INFO: common: json file saved at: scores.json]\n"
     ]
    },
    {
     "name": "stderr",
     "output_type": "stream",
     "text": [
      "2024/05/30 16:29:33 WARNING mlflow.tensorflow: You are saving a TensorFlow Core model or Keras model without a signature. Inference with mlflow.pyfunc.spark_udf() will not work unless the model's pyfunc representation accepts pandas DataFrames as inference inputs.\n"
     ]
    },
    {
     "name": "stdout",
     "output_type": "stream",
     "text": [
      "[2024-05-30 16:29:35,943: WARNING: save: Found untraced functions such as _jit_compiled_convolution_op, _jit_compiled_convolution_op, _jit_compiled_convolution_op, _jit_compiled_convolution_op, _jit_compiled_convolution_op while saving (showing 5 of 14). These functions will not be directly callable after loading.]\n",
      "[2024-05-30 16:29:36,759: INFO: builder_impl: Assets written to: C:\\Users\\etrou\\AppData\\Local\\Temp\\tmpyrfzsz01\\model\\data\\model\\assets]\n"
     ]
    },
    {
     "name": "stderr",
     "output_type": "stream",
     "text": [
      "c:\\Users\\etrou\\anaconda3\\envs\\grp_env\\lib\\site-packages\\_distutils_hack\\__init__.py:26: UserWarning: Setuptools is replacing distutils.\n",
      "  warnings.warn(\"Setuptools is replacing distutils.\")\n",
      "Registered model 'VGG16Model' already exists. Creating a new version of this model...\n",
      "2024/05/30 16:30:24 INFO mlflow.tracking._model_registry.client: Waiting up to 300 seconds for model version to finish creation.                     Model name: VGG16Model, version 20\n",
      "Created version '20' of model 'VGG16Model'.\n"
     ]
    },
    {
     "name": "stdout",
     "output_type": "stream",
     "text": [
      "\n",
      "Top 10 functions sorted by cumulative time:\n",
      "Thu May 30 16:30:24 2024    c:\\Users\\etrou\\OneDrive\\Desktop\\SE489GroupProjectGit\\group_project_se489\\se489_group_project\\visualizations\\cprofile_stats_model_evaluation.prof\n",
      "\n",
      "         6413016 function calls (6252982 primitive calls) in 77.912 seconds\n",
      "\n",
      "   Ordered by: cumulative time\n",
      "   List reduced from 5716 to 10 due to restriction <10>\n",
      "\n",
      "   ncalls  tottime  percall  cumtime  percall filename:lineno(function)\n",
      "        1    0.000    0.000   52.170   52.170 C:\\Users\\etrou\\AppData\\Local\\Temp\\ipykernel_27608\\3041503622.py:56(log_into_mlflow)\n",
      "        1    0.000    0.000   51.120   51.120 c:\\Users\\etrou\\anaconda3\\envs\\grp_env\\lib\\site-packages\\mlflow\\tensorflow\\__init__.py:124(log_model)\n",
      "        1    0.000    0.000   51.120   51.120 c:\\Users\\etrou\\anaconda3\\envs\\grp_env\\lib\\site-packages\\mlflow\\models\\model.py:492(log)\n",
      "       20    0.001    0.000   42.367    2.118 c:\\Users\\etrou\\anaconda3\\envs\\grp_env\\lib\\site-packages\\mlflow\\utils\\rest_utils.py:101(http_request)\n",
      "       20    0.000    0.000   42.191    2.110 c:\\Users\\etrou\\anaconda3\\envs\\grp_env\\lib\\site-packages\\mlflow\\utils\\rest_utils.py:80(_get_http_response_with_retries)\n",
      "       20    0.000    0.000   42.191    2.110 c:\\Users\\etrou\\anaconda3\\envs\\grp_env\\lib\\site-packages\\requests\\sessions.py:500(request)\n",
      "       20    0.001    0.000   42.127    2.106 c:\\Users\\etrou\\anaconda3\\envs\\grp_env\\lib\\site-packages\\requests\\sessions.py:673(send)\n",
      "       20    0.000    0.000   42.112    2.106 c:\\Users\\etrou\\anaconda3\\envs\\grp_env\\lib\\site-packages\\requests\\adapters.py:613(send)\n",
      "       20    0.001    0.000   42.101    2.105 c:\\Users\\etrou\\anaconda3\\envs\\grp_env\\lib\\site-packages\\urllib3\\connectionpool.py:598(urlopen)\n",
      "       20    0.000    0.000   42.093    2.105 c:\\Users\\etrou\\anaconda3\\envs\\grp_env\\lib\\site-packages\\urllib3\\connectionpool.py:380(_make_request)\n",
      "\n",
      "\n",
      "\n",
      "Top 10 functions sorted by total time:\n",
      "Thu May 30 16:30:24 2024    c:\\Users\\etrou\\OneDrive\\Desktop\\SE489GroupProjectGit\\group_project_se489\\se489_group_project\\visualizations\\cprofile_stats_model_evaluation.prof\n",
      "\n",
      "         6413016 function calls (6252982 primitive calls) in 77.912 seconds\n",
      "\n",
      "   Ordered by: internal time\n",
      "   List reduced from 5716 to 10 due to restriction <10>\n",
      "\n",
      "   ncalls  tottime  percall  cumtime  percall filename:lineno(function)\n",
      "     3717   33.029    0.009   33.029    0.009 {method 'write' of '_ssl._SSLSocket' objects}\n",
      "       25   25.176    1.007   25.176    1.007 {built-in method tensorflow.python._pywrap_tfe.TFE_Py_Execute}\n",
      "       43    8.569    0.199    8.569    0.199 {method 'read' of '_ssl._SSLSocket' objects}\n",
      "     7424    4.995    0.001    4.995    0.001 {method 'acquire' of '_thread.lock' objects}\n",
      "     4505    0.170    0.000    0.170    0.000 {method 'read' of '_io.BufferedReader' objects}\n",
      "      495    0.163    0.000    0.163    0.000 {built-in method tensorflow.python._pywrap_tfe.TFE_Py_FastPathExecute}\n",
      "  556/462    0.136    0.000    0.346    0.001 c:\\Users\\etrou\\anaconda3\\envs\\grp_env\\lib\\site-packages\\tensorflow\\python\\util\\deprecation.py:542(new_func)\n",
      "    21728    0.121    0.000    0.130    0.000 c:\\Users\\etrou\\anaconda3\\envs\\grp_env\\lib\\pathlib.py:913(parts)\n",
      "     2361    0.110    0.000    0.110    0.000 {built-in method tensorflow.python.client._pywrap_tf_session.TF_FinishOperation}\n",
      "634477/633127    0.107    0.000    0.164    0.000 {built-in method builtins.isinstance}\n",
      "\n",
      "\n"
     ]
    }
   ],
   "source": [
    "import subprocess\n",
    "def main():\n",
    "    try:\n",
    "        log_dir = os.path.join(os.getcwd(), \"se489_group_project\", \"visualizations\")\n",
    "        file = os.path.join(log_dir, 'cprofile_stats_model_evaluation.prof')\n",
    "        config = ConfigurationManager()\n",
    "\n",
    "        eval_config = config.get_evaluation_config()\n",
    "        evaluation = Evaluation(eval_config)\n",
    "        profiler = cProfile.Profile()\n",
    "        profiler.enable()\n",
    "        evaluation.evaluation()\n",
    "        evaluation.log_into_mlflow()\n",
    "        profiler.disable()\n",
    "        profiler.dump_stats(file)\n",
    "        profile_file_full_path = os.path.abspath(file)\n",
    "        analyze(\n",
    "            profile_file_full_path)\n",
    "        #Automatically open snakeviz to visualize the profiling results\n",
    "        try:\n",
    "            subprocess.Popen([\"snakeviz\", profile_file_full_path])\n",
    "        except FileNotFoundError:\n",
    "            print(\"snakeviz is not installed or not found in the system path.\")\n",
    "\n",
    "    except Exception as e:\n",
    "        raise e\n",
    "if __name__ == \"__main__\":\n",
    "    main()"
   ]
  }
 ],
 "metadata": {
  "kernelspec": {
   "display_name": "grp_env",
   "language": "python",
   "name": "python3"
  },
  "language_info": {
   "codemirror_mode": {
    "name": "ipython",
    "version": 3
   },
   "file_extension": ".py",
   "mimetype": "text/x-python",
   "name": "python",
   "nbconvert_exporter": "python",
   "pygments_lexer": "ipython3",
   "version": "3.8.19"
  }
 },
 "nbformat": 4,
 "nbformat_minor": 2
}
