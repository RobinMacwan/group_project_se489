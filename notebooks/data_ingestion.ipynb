{
 "cells": [
  {
   "cell_type": "code",
   "execution_count": 1,
   "metadata": {
    "ExecuteTime": {
     "end_time": "2024-05-09T22:20:40.657032Z",
     "start_time": "2024-05-09T22:20:40.649590Z"
    }
   },
   "outputs": [],
   "source": [
    "import os"
   ]
  },
  {
   "cell_type": "code",
   "execution_count": 2,
   "metadata": {
    "ExecuteTime": {
     "end_time": "2024-05-09T22:20:40.672375Z",
     "start_time": "2024-05-09T22:20:40.658777Z"
    }
   },
   "outputs": [
    {
     "data": {
      "text/plain": [
       "'c:\\\\Users\\\\etrou\\\\OneDrive\\\\Desktop\\\\SE489GroupProjectGit\\\\group_project_se489\\\\notebooks'"
      ]
     },
     "execution_count": 2,
     "metadata": {},
     "output_type": "execute_result"
    }
   ],
   "source": [
    "%pwd"
   ]
  },
  {
   "cell_type": "code",
   "execution_count": 3,
   "metadata": {
    "ExecuteTime": {
     "end_time": "2024-05-09T22:20:40.676420Z",
     "start_time": "2024-05-09T22:20:40.673382Z"
    }
   },
   "outputs": [],
   "source": [
    "os.chdir(\"../\")"
   ]
  },
  {
   "cell_type": "code",
   "execution_count": 4,
   "metadata": {
    "ExecuteTime": {
     "end_time": "2024-05-09T22:20:40.682068Z",
     "start_time": "2024-05-09T22:20:40.677425Z"
    }
   },
   "outputs": [
    {
     "data": {
      "text/plain": [
       "'c:\\\\Users\\\\etrou\\\\OneDrive\\\\Desktop\\\\SE489GroupProjectGit\\\\group_project_se489'"
      ]
     },
     "execution_count": 4,
     "metadata": {},
     "output_type": "execute_result"
    }
   ],
   "source": [
    "%pwd"
   ]
  },
  {
   "cell_type": "code",
   "execution_count": 5,
   "metadata": {},
   "outputs": [],
   "source": [
    "import cProfile\n",
    "import pstats\n",
    "import logging.handlers\n",
    "import queue\n",
    "import threading\n",
    "from concurrent.futures import ThreadPoolExecutor\n",
    "import nest_asyncio\n",
    "import asyncio\n",
    "import os\n",
    "import zipfile\n",
    "import gdown\n",
    "from se489_group_project import logger\n",
    "from se489_group_project.utility.common import get_size"
   ]
  },
  {
   "cell_type": "code",
   "execution_count": 6,
   "metadata": {},
   "outputs": [],
   "source": [
    "# # Create a thread-safe queue for log messages\n",
    "# log_queue = queue.Queue(-1)  # No size limit\n",
    "\n",
    "# # Create a QueueHandler to send log messages to the queue\n",
    "# queue_handler = logging.handlers.QueueHandler(log_queue)\n",
    "\n",
    "# # Set up the root logger to use the QueueHandler\n",
    "# logger = logging.getLogger()\n",
    "# logger.setLevel(logging.DEBUG)\n",
    "# logger.addHandler(queue_handler)\n",
    "\n",
    "# # Create a handler for console output (or file output)\n",
    "# console_handler = logging.StreamHandler()\n",
    "# console_handler.setLevel(logging.DEBUG)\n",
    "# formatter = logging.Formatter('%(asctime)s - %(name)s - %(levelname)s - %(message)s')\n",
    "# console_handler.setFormatter(formatter)\n",
    "\n",
    "# # Create a QueueListener to process log messages from the queue\n",
    "# listener = logging.handlers.QueueListener(log_queue, console_handler)\n",
    "\n",
    "# # Start the listener thread\n",
    "# listener.start()\n",
    "# #made slower"
   ]
  },
  {
   "cell_type": "code",
   "execution_count": 7,
   "metadata": {
    "ExecuteTime": {
     "end_time": "2024-05-09T22:20:40.692573Z",
     "start_time": "2024-05-09T22:20:40.684075Z"
    }
   },
   "outputs": [],
   "source": [
    "from dataclasses import dataclass\n",
    "from pathlib import Path\n",
    "\n",
    "\n",
    "@dataclass(frozen=True)\n",
    "class GettingDataConfig:\n",
    "    root_dir: Path\n",
    "    source_URL: str\n",
    "    local_data_file: Path\n",
    "    unzip_dir: Path"
   ]
  },
  {
   "cell_type": "code",
   "execution_count": 8,
   "metadata": {
    "ExecuteTime": {
     "end_time": "2024-05-09T22:20:40.841202Z",
     "start_time": "2024-05-09T22:20:40.694085Z"
    }
   },
   "outputs": [],
   "source": [
    "from se489_group_project.constants import *\n",
    "from se489_group_project.utility.common import read_yaml, create_directories"
   ]
  },
  {
   "cell_type": "code",
   "execution_count": 9,
   "metadata": {
    "ExecuteTime": {
     "end_time": "2024-05-09T22:20:40.849744Z",
     "start_time": "2024-05-09T22:20:40.842209Z"
    }
   },
   "outputs": [],
   "source": [
    "class ConfigurationManager:\n",
    "    def __init__(\n",
    "        self,\n",
    "        config_filepath = CONFIG_FILE_PATH,\n",
    "        params_filepath = PARAMS_FILE_PATH):\n",
    "\n",
    "        self.config = read_yaml(config_filepath)\n",
    "        self.params = read_yaml(params_filepath)\n",
    "\n",
    "        create_directories([self.config.data_storage])\n",
    "\n",
    "    def get_data_ingestion_config(self) -> GettingDataConfig:\n",
    "        config = self.config.data_ingestion\n",
    "        self.executor = ThreadPoolExecutor(max_workers=4)  # Adjust the number of workers as needed\n",
    "\n",
    "\n",
    "        create_directories([config.root_dir])\n",
    "\n",
    "        data_ingestion_config = GettingDataConfig(\n",
    "            root_dir=config.root_dir,\n",
    "            source_URL=config.source_URL,\n",
    "            local_data_file=config.local_data_file,\n",
    "            unzip_dir=config.unzip_dir \n",
    "        )\n",
    "\n",
    "        return data_ingestion_config"
   ]
  },
  {
   "cell_type": "code",
   "execution_count": null,
   "metadata": {
    "ExecuteTime": {
     "end_time": "2024-05-09T22:20:41.034047Z",
     "start_time": "2024-05-09T22:20:40.850755Z"
    }
   },
   "outputs": [],
   "source": []
  },
  {
   "cell_type": "code",
   "execution_count": 10,
   "metadata": {
    "ExecuteTime": {
     "end_time": "2024-05-09T22:20:41.040860Z",
     "start_time": "2024-05-09T22:20:41.035063Z"
    }
   },
   "outputs": [],
   "source": [
    "class DataIngestion:\n",
    "    def __init__(self, config: GettingDataConfig):\n",
    "        self.config = config\n",
    "\n",
    "    \n",
    "    async def download_file(self)-> str:\n",
    "        '''\n",
    "        Fetch data from the url\n",
    "        '''\n",
    "\n",
    "        try: \n",
    "            dataset_url = self.config.source_URL\n",
    "            zip_download_dir = self.config.local_data_file\n",
    "            os.makedirs(\"data/raw\", exist_ok=True)\n",
    "            logger.info(f\"Downloading data from {dataset_url} into file {zip_download_dir}\")\n",
    "\n",
    "            file_id = dataset_url.split(\"/\")[-2]\n",
    "            prefix = 'https://drive.google.com/uc?/export=download&id='\n",
    "            gdown.download(prefix+file_id,zip_download_dir)\n",
    "\n",
    "            logger.info(f\"Downloaded data from {dataset_url} into file {zip_download_dir}\")\n",
    "\n",
    "        except Exception as e:\n",
    "            raise e\n",
    "        \n",
    "    \n",
    "\n",
    "    async def extract_zip_file(self):\n",
    "        \"\"\"\n",
    "        zip_file_path: str\n",
    "        Extracts the zip file into the data directory\n",
    "        Function returns None\n",
    "        \"\"\"\n",
    "        unzip_path = self.config.unzip_dir\n",
    "        os.makedirs(unzip_path, exist_ok=True)\n",
    "        with zipfile.ZipFile(self.config.local_data_file, 'r') as zip_ref:\n",
    "            zip_ref.extractall(unzip_path)"
   ]
  },
  {
   "cell_type": "code",
   "execution_count": 11,
   "metadata": {},
   "outputs": [],
   "source": [
    "async def analyze(file):\n",
    "    p = pstats.Stats(file)\n",
    "    # Print top 10 functions sorted by cumulative time\n",
    "    print(\"\\nTop 10 functions sorted by cumulative time:\")\n",
    "    p.sort_stats('cumtime').print_stats(10)\n",
    "    \n",
    "    # Print top 10 functions sorted by total time\n",
    "    print(\"\\nTop 10 functions sorted by total time:\")\n",
    "    p.sort_stats('tottime').print_stats(10)\n",
    "    "
   ]
  },
  {
   "cell_type": "code",
   "execution_count": 12,
   "metadata": {
    "ExecuteTime": {
     "end_time": "2024-05-09T22:20:50.267817Z",
     "start_time": "2024-05-09T22:20:41.041865Z"
    }
   },
   "outputs": [
    {
     "name": "stdout",
     "output_type": "stream",
     "text": [
      "[2024-05-30 16:27:23,461: INFO: common: yaml file: config\\config.yaml loaded successfully]\n",
      "[2024-05-30 16:27:23,464: INFO: common: yaml file: params.yaml loaded successfully]\n",
      "[2024-05-30 16:27:23,465: INFO: common: created directory at: data]\n",
      "[2024-05-30 16:27:23,467: INFO: common: created directory at: data/raw]\n",
      "[2024-05-30 16:27:23,467: INFO: 4008795092: Profiling download_file()]\n",
      "[2024-05-30 16:27:23,469: INFO: 2982213194: Downloading data from https://drive.google.com/file/d/1gesLApompvvnzz-AWyWM4ikmk7BOGWAp/view?usp=sharing into file data/raw/data.zip]\n"
     ]
    },
    {
     "name": "stderr",
     "output_type": "stream",
     "text": [
      "Downloading...\n",
      "From (original): https://drive.google.com/uc?/export=download&id=1gesLApompvvnzz-AWyWM4ikmk7BOGWAp\n",
      "From (redirected): https://drive.google.com/uc?%2Fexport=download&id=1gesLApompvvnzz-AWyWM4ikmk7BOGWAp&confirm=t&uuid=29eec2e6-5d49-4848-8d4e-32cf1dfaa9c2\n",
      "To: c:\\Users\\etrou\\OneDrive\\Desktop\\SE489GroupProjectGit\\group_project_se489\\data\\raw\\data.zip\n",
      "100%|██████████| 57.7M/57.7M [00:07<00:00, 7.33MB/s]"
     ]
    },
    {
     "name": "stdout",
     "output_type": "stream",
     "text": [
      "[2024-05-30 16:27:33,197: INFO: 2982213194: Downloaded data from https://drive.google.com/file/d/1gesLApompvvnzz-AWyWM4ikmk7BOGWAp/view?usp=sharing into file data/raw/data.zip]\n",
      "[2024-05-30 16:27:33,197: INFO: 4008795092: Profiling extract_zip_file()]\n"
     ]
    },
    {
     "name": "stderr",
     "output_type": "stream",
     "text": [
      "\n"
     ]
    },
    {
     "name": "stdout",
     "output_type": "stream",
     "text": [
      "\n",
      "Top 10 functions sorted by cumulative time:\n",
      "Thu May 30 16:27:33 2024    c:\\Users\\etrou\\OneDrive\\Desktop\\SE489GroupProjectGit\\group_project_se489\\se489_group_project\\visualizations\\cprofile_stats_data_ingestion.prof\n",
      "\n",
      "         164627 function calls (164422 primitive calls) in 10.271 seconds\n",
      "\n",
      "   Ordered by: cumulative time\n",
      "   List reduced from 1085 to 10 due to restriction <10>\n",
      "\n",
      "   ncalls  tottime  percall  cumtime  percall filename:lineno(function)\n",
      "        1    0.000    0.000    9.730    9.730 C:\\Users\\etrou\\AppData\\Local\\Temp\\ipykernel_20696\\2982213194.py:6(download_file)\n",
      "        1    0.012    0.012    9.728    9.728 c:\\Users\\etrou\\anaconda3\\envs\\grp_env\\lib\\site-packages\\gdown\\download.py:113(download)\n",
      "     4480    0.017    0.000    8.202    0.002 c:\\Users\\etrou\\anaconda3\\envs\\grp_env\\lib\\socket.py:655(readinto)\n",
      "     4480    0.016    0.000    8.175    0.002 c:\\Users\\etrou\\anaconda3\\envs\\grp_env\\lib\\ssl.py:1263(recv_into)\n",
      "     4480    0.009    0.000    8.155    0.002 c:\\Users\\etrou\\anaconda3\\envs\\grp_env\\lib\\ssl.py:1123(read)\n",
      "     4480    8.145    0.002    8.145    0.002 {method 'read' of '_ssl._SSLSocket' objects}\n",
      "      115    0.000    0.000    7.748    0.067 c:\\Users\\etrou\\anaconda3\\envs\\grp_env\\lib\\site-packages\\requests\\models.py:816(generate)\n",
      "      115    0.001    0.000    7.747    0.067 c:\\Users\\etrou\\anaconda3\\envs\\grp_env\\lib\\site-packages\\urllib3\\response.py:1021(stream)\n",
      "      112    0.002    0.000    7.745    0.069 c:\\Users\\etrou\\anaconda3\\envs\\grp_env\\lib\\site-packages\\urllib3\\response.py:899(read)\n",
      "      113    0.003    0.000    7.716    0.068 c:\\Users\\etrou\\anaconda3\\envs\\grp_env\\lib\\site-packages\\urllib3\\response.py:847(_raw_read)\n",
      "\n",
      "\n",
      "\n",
      "Top 10 functions sorted by total time:\n",
      "Thu May 30 16:27:33 2024    c:\\Users\\etrou\\OneDrive\\Desktop\\SE489GroupProjectGit\\group_project_se489\\se489_group_project\\visualizations\\cprofile_stats_data_ingestion.prof\n",
      "\n",
      "         164627 function calls (164422 primitive calls) in 10.271 seconds\n",
      "\n",
      "   Ordered by: internal time\n",
      "   List reduced from 1085 to 10 due to restriction <10>\n",
      "\n",
      "   ncalls  tottime  percall  cumtime  percall filename:lineno(function)\n",
      "     4480    8.145    0.002    8.145    0.002 {method 'read' of '_ssl._SSLSocket' objects}\n",
      "        2    1.110    0.555    1.110    0.555 {built-in method _socket.getaddrinfo}\n",
      "      492    0.238    0.000    0.238    0.000 {method 'decompress' of 'zlib.Decompress' objects}\n",
      "        2    0.100    0.050    0.100    0.050 {method 'do_handshake' of '_ssl._SSLSocket' objects}\n",
      "      576    0.086    0.000    0.086    0.000 {method 'write' of '_io.BufferedWriter' objects}\n",
      "      473    0.082    0.000    0.082    0.000 {built-in method io.open}\n",
      "        2    0.055    0.027    0.055    0.027 {method 'connect' of '_socket.socket' objects}\n",
      "      539    0.053    0.000    0.053    0.000 {method 'acquire' of '_thread.lock' objects}\n",
      "      468    0.039    0.000    0.529    0.001 c:\\Users\\etrou\\anaconda3\\envs\\grp_env\\lib\\zipfile.py:1676(_extract_member)\n",
      "      487    0.029    0.000    0.029    0.000 {built-in method nt.stat}\n",
      "\n",
      "\n"
     ]
    }
   ],
   "source": [
    "import subprocess\n",
    "\n",
    "#added async to main function\n",
    "async def main():\n",
    "    \n",
    "    try:\n",
    "        log_dir = os.path.join(os.getcwd(), \"se489_group_project\", \"visualizations\")\n",
    "        file = os.path.join(log_dir, 'cprofile_stats_data_ingestion.prof')\n",
    "        config = ConfigurationManager()\n",
    "        data_ingestion_config = config.get_data_ingestion_config()\n",
    "        data_ingestion = DataIngestion(config=data_ingestion_config)\n",
    "        # await data_ingestion.download_file()\n",
    "        # await data_ingestion.extract_zip_file()\n",
    "        profiler = cProfile.Profile()\n",
    "        profiler.enable()\n",
    "            \n",
    "        #Profile the download_file function\n",
    "        logger.info(\"Profiling download_file()\")\n",
    "        await data_ingestion.download_file()\n",
    "\n",
    "        # Profile the extract_zip_file function\n",
    "        logger.info(\"Profiling extract_zip_file()\")\n",
    "        await data_ingestion.extract_zip_file()\n",
    "        profiler.disable()\n",
    "        profiler.dump_stats(file)\n",
    "\n",
    "        profile_file_full_path = os.path.abspath(file)\n",
    "        await analyze(profile_file_full_path)\n",
    "        #Automatically open snakeviz to visualize the profiling results\n",
    "        try:\n",
    "            subprocess.Popen([\"snakeviz\", profile_file_full_path])\n",
    "        except FileNotFoundError:\n",
    "            print(\"snakeviz is not installed or not found in the system path.\")\n",
    "    except Exception as e:\n",
    "        logger.error(f\"Error: {e}\") # Log the error\n",
    "        raise e\n",
    "    # finally:\n",
    "    #     # Stop the listener thread\n",
    "    #     listener.stop()\n",
    "if __name__ == \"__main__\":\n",
    "    nest_asyncio.apply()\n",
    "    asyncio.run(main())\n",
    "    #main()"
   ]
  },
  {
   "cell_type": "code",
   "execution_count": null,
   "metadata": {},
   "outputs": [],
   "source": []
  },
  {
   "cell_type": "code",
   "execution_count": null,
   "metadata": {
    "ExecuteTime": {
     "end_time": "2024-05-09T22:20:50.270945Z",
     "start_time": "2024-05-09T22:20:50.268833Z"
    }
   },
   "outputs": [],
   "source": [
    "\n"
   ]
  },
  {
   "cell_type": "code",
   "execution_count": null,
   "metadata": {
    "ExecuteTime": {
     "end_time": "2024-05-09T22:20:50.274012Z",
     "start_time": "2024-05-09T22:20:50.271954Z"
    }
   },
   "outputs": [],
   "source": []
  }
 ],
 "metadata": {
  "kernelspec": {
   "display_name": "grp_env",
   "language": "python",
   "name": "python3"
  },
  "language_info": {
   "codemirror_mode": {
    "name": "ipython",
    "version": 3
   },
   "file_extension": ".py",
   "mimetype": "text/x-python",
   "name": "python",
   "nbconvert_exporter": "python",
   "pygments_lexer": "ipython3",
   "version": "3.8.19"
  }
 },
 "nbformat": 4,
 "nbformat_minor": 2
}
